{
 "cells": [
  {
   "cell_type": "markdown",
   "id": "192f9725-d35e-4705-b153-f956004eeed9",
   "metadata": {},
   "source": [
    "# Data Types"
   ]
  },
  {
   "cell_type": "markdown",
   "id": "dab247d9-e8fc-461e-896a-19011467117f",
   "metadata": {},
   "source": [
    "## Numeric\n",
    "- integer\n",
    "- float\n",
    "- complex number"
   ]
  },
  {
   "cell_type": "code",
   "execution_count": 3,
   "id": "9f21edf3-26e6-4102-9f8f-66bb83fed873",
   "metadata": {},
   "outputs": [
    {
     "data": {
      "text/plain": [
       "int"
      ]
     },
     "execution_count": 3,
     "metadata": {},
     "output_type": "execute_result"
    }
   ],
   "source": [
    "type (-12 + 100)"
   ]
  },
  {
   "cell_type": "code",
   "execution_count": 5,
   "id": "4b31f142-64fc-4c30-8eff-83849d965424",
   "metadata": {},
   "outputs": [
    {
     "data": {
      "text/plain": [
       "float"
      ]
     },
     "execution_count": 5,
     "metadata": {},
     "output_type": "execute_result"
    }
   ],
   "source": [
    "type (-12 + 10.25)"
   ]
  },
  {
   "cell_type": "code",
   "execution_count": 7,
   "id": "46274af6-4993-40cf-bcab-860318eb14fd",
   "metadata": {},
   "outputs": [
    {
     "data": {
      "text/plain": [
       "complex"
      ]
     },
     "execution_count": 7,
     "metadata": {},
     "output_type": "execute_result"
    }
   ],
   "source": [
    "type (-12 + 3j)"
   ]
  },
  {
   "cell_type": "markdown",
   "id": "869ff558-0385-49b5-9140-e645b3fa8b35",
   "metadata": {},
   "source": [
    "## Boolean"
   ]
  },
  {
   "cell_type": "code",
   "execution_count": 12,
   "id": "c9f69834-74d4-4932-8c56-4c347a198916",
   "metadata": {},
   "outputs": [
    {
     "data": {
      "text/plain": [
       "bool"
      ]
     },
     "execution_count": 12,
     "metadata": {},
     "output_type": "execute_result"
    }
   ],
   "source": [
    "type(True)"
   ]
  },
  {
   "cell_type": "code",
   "execution_count": 14,
   "id": "ad7b382f-2041-43c1-849c-3a2b31984dee",
   "metadata": {},
   "outputs": [
    {
     "data": {
      "text/plain": [
       "bool"
      ]
     },
     "execution_count": 14,
     "metadata": {},
     "output_type": "execute_result"
    }
   ],
   "source": [
    "type(False)"
   ]
  },
  {
   "cell_type": "code",
   "execution_count": 16,
   "id": "ef16ed55-effd-4c27-975e-a6be0ead354d",
   "metadata": {},
   "outputs": [
    {
     "data": {
      "text/plain": [
       "bool"
      ]
     },
     "execution_count": 16,
     "metadata": {},
     "output_type": "execute_result"
    }
   ],
   "source": [
    "type(1 > 5)"
   ]
  },
  {
   "cell_type": "code",
   "execution_count": 18,
   "id": "b86dfe67-6c81-4da4-b9b1-0b10ef952e96",
   "metadata": {},
   "outputs": [
    {
     "data": {
      "text/plain": [
       "False"
      ]
     },
     "execution_count": 18,
     "metadata": {},
     "output_type": "execute_result"
    }
   ],
   "source": [
    "1 > 5"
   ]
  },
  {
   "cell_type": "code",
   "execution_count": 20,
   "id": "1ebeec6c-d533-4543-945b-0348db940e47",
   "metadata": {},
   "outputs": [
    {
     "data": {
      "text/plain": [
       "True"
      ]
     },
     "execution_count": 20,
     "metadata": {},
     "output_type": "execute_result"
    }
   ],
   "source": [
    "1 == 1"
   ]
  },
  {
   "cell_type": "markdown",
   "id": "ac0aa3e2-08a3-44da-a905-af926845b823",
   "metadata": {},
   "source": [
    "## Strings"
   ]
  },
  {
   "cell_type": "markdown",
   "id": "9e75b3d3-6932-4dd9-b816-f57612197b9a",
   "metadata": {},
   "source": [
    "- Quotes"
   ]
  },
  {
   "cell_type": "code",
   "execution_count": 23,
   "id": "c60e3200-e5a1-4676-861f-3f4da5450f5a",
   "metadata": {},
   "outputs": [
    {
     "data": {
      "text/plain": [
       "'Single Quote'"
      ]
     },
     "execution_count": 23,
     "metadata": {},
     "output_type": "execute_result"
    }
   ],
   "source": [
    "'Single Quote'"
   ]
  },
  {
   "cell_type": "code",
   "execution_count": 25,
   "id": "1570fa40-41e3-4fa2-807b-339785548c62",
   "metadata": {},
   "outputs": [
    {
     "data": {
      "text/plain": [
       "' Double Quote'"
      ]
     },
     "execution_count": 25,
     "metadata": {},
     "output_type": "execute_result"
    }
   ],
   "source": [
    "\"Double Quote\""
   ]
  },
  {
   "cell_type": "markdown",
   "id": "4b4ef808-4914-4c03-a7b6-b493147dc14f",
   "metadata": {},
   "source": [
    "multiline = \"\"\"\n",
    "I am Alodia Bendicio.\n",
    "I am 23 years old.\n",
    "I am a newly licensed\n",
    "Electronics Engineer \n",
    "and Electronics Technician.\n",
    "\"\"\""
   ]
  },
  {
   "cell_type": "code",
   "execution_count": 42,
   "id": "67787415-6f25-4f74-9af1-ce44e213a26b",
   "metadata": {},
   "outputs": [
    {
     "name": "stdout",
     "output_type": "stream",
     "text": [
      "\n",
      "I am Alodia Bendicio.\n",
      "I am 23 years old.\n",
      "I am a newly licensed\n",
      "Electronics Engineer \n",
      "and Electronics Technician.\n",
      "\n"
     ]
    }
   ],
   "source": [
    "print(multiline)"
   ]
  },
  {
   "cell_type": "markdown",
   "id": "e567f73d-54b8-4bf6-ac5f-27faf8531d27",
   "metadata": {},
   "source": [
    "- Index\n",
    "  - can search within strings \n",
    "  - starts at index 0"
   ]
  },
  {
   "cell_type": "code",
   "execution_count": 15,
   "id": "295ea917-d5c6-4d2b-b734-295d411669b1",
   "metadata": {},
   "outputs": [
    {
     "name": "stdout",
     "output_type": "stream",
     "text": [
      "Hello\n",
      "W\n",
      "llo Wor\n",
      "l\n"
     ]
    }
   ],
   "source": [
    "a = 'Hello World!'\n",
    "\n",
    "print(a[0:5])\n",
    "print(a[6])\n",
    "print(a[2:-3])\n",
    "print(a[-3])"
   ]
  },
  {
   "cell_type": "markdown",
   "id": "9f0efef6-8486-4c70-b063-734395b91466",
   "metadata": {},
   "source": [
    "- performing arithmetic with strings"
   ]
  },
  {
   "cell_type": "code",
   "execution_count": 28,
   "id": "8d65906e-26db-4d40-8936-d0f96b36ddfb",
   "metadata": {},
   "outputs": [
    {
     "data": {
      "text/plain": [
       "'Hello World!Hello World!Hello World!'"
      ]
     },
     "execution_count": 28,
     "metadata": {},
     "output_type": "execute_result"
    }
   ],
   "source": [
    "a*3"
   ]
  },
  {
   "cell_type": "code",
   "execution_count": 30,
   "id": "f3ec7076-a1a9-438e-bc9c-7a8bb5816c6a",
   "metadata": {},
   "outputs": [
    {
     "data": {
      "text/plain": [
       "'Hello World!Hello World!'"
      ]
     },
     "execution_count": 30,
     "metadata": {},
     "output_type": "execute_result"
    }
   ],
   "source": [
    "a + a"
   ]
  },
  {
   "cell_type": "markdown",
   "id": "5234084f-25fd-475f-91f3-9e316dbe4a10",
   "metadata": {},
   "source": [
    "## LISTS\n",
    "- store multiple values\n",
    "- can store different data types\n",
    "- can add and remove items from the list"
   ]
  },
  {
   "cell_type": "code",
   "execution_count": 35,
   "id": "bd93d299-9815-45c0-8821-4d5327ca430d",
   "metadata": {},
   "outputs": [
    {
     "data": {
      "text/plain": [
       "[1, 2, 3]"
      ]
     },
     "execution_count": 35,
     "metadata": {},
     "output_type": "execute_result"
    }
   ],
   "source": [
    "[1, 2, 3]"
   ]
  },
  {
   "cell_type": "code",
   "execution_count": 49,
   "id": "5d1da037-6eff-4aab-a096-e2f7f3da2723",
   "metadata": {},
   "outputs": [
    {
     "data": {
      "text/plain": [
       "['blueberry', 'lemon', 'lychee']"
      ]
     },
     "execution_count": 49,
     "metadata": {},
     "output_type": "execute_result"
    }
   ],
   "source": [
    "['blueberry', 'lemon', 'lychee']"
   ]
  },
  {
   "cell_type": "code",
   "execution_count": 51,
   "id": "6ae6ccf6-7497-48a0-88e0-77f7b78148ae",
   "metadata": {},
   "outputs": [
    {
     "data": {
      "text/plain": [
       "['Vanilla', 3, ['Cone', 'Cups'], True]"
      ]
     },
     "execution_count": 51,
     "metadata": {},
     "output_type": "execute_result"
    }
   ],
   "source": [
    "['Vanilla', 3, ['Cone', 'Cups'], True]"
   ]
  },
  {
   "cell_type": "code",
   "execution_count": 53,
   "id": "04fb6efe-b7a1-47a8-8e08-32679bd6bc17",
   "metadata": {},
   "outputs": [
    {
     "data": {
      "text/plain": [
       "['blueberry', 'lemon', 'lychee', 'mango']"
      ]
     },
     "execution_count": 53,
     "metadata": {},
     "output_type": "execute_result"
    }
   ],
   "source": [
    "fruit = ['blueberry', 'lemon', 'lychee']\n",
    "\n",
    "fruit.append('mango')\n",
    "\n",
    "fruit"
   ]
  },
  {
   "cell_type": "code",
   "execution_count": 59,
   "id": "61451531-d857-4c55-a0f9-76d4013db68b",
   "metadata": {},
   "outputs": [
    {
     "data": {
      "text/plain": [
       "['orange', 'lemon', 'lychee', 'mango']"
      ]
     },
     "execution_count": 59,
     "metadata": {},
     "output_type": "execute_result"
    }
   ],
   "source": [
    "fruit[0] = 'orange'\n",
    "\n",
    "fruit"
   ]
  },
  {
   "cell_type": "code",
   "execution_count": 61,
   "id": "be951584-3d80-4258-8452-69a5d31f1a46",
   "metadata": {},
   "outputs": [
    {
     "data": {
      "text/plain": [
       "['Cone', 'Cups']"
      ]
     },
     "execution_count": 61,
     "metadata": {},
     "output_type": "execute_result"
    }
   ],
   "source": [
    "nest_list = ['Vanilla', 3, ['Cone', 'Cups'], True]\n",
    "\n",
    "nest_list[2]"
   ]
  },
  {
   "cell_type": "code",
   "execution_count": 63,
   "id": "f746c455-127b-416f-b5b0-cb1af29a9797",
   "metadata": {},
   "outputs": [
    {
     "data": {
      "text/plain": [
       "'Cups'"
      ]
     },
     "execution_count": 63,
     "metadata": {},
     "output_type": "execute_result"
    }
   ],
   "source": [
    "nest_list[2][1]"
   ]
  },
  {
   "cell_type": "markdown",
   "id": "7e30ae80-8c36-4055-9947-3005d19be122",
   "metadata": {},
   "source": [
    "## TUPLES\n",
    "- immutable (cannot be modified or changed after creation)"
   ]
  },
  {
   "cell_type": "code",
   "execution_count": 67,
   "id": "911c9207-eb19-46d5-82ed-b834bb406bf3",
   "metadata": {},
   "outputs": [],
   "source": [
    "tuple_mL = (100, 50, 200, 250)"
   ]
  },
  {
   "cell_type": "code",
   "execution_count": 69,
   "id": "54533358-7a0a-456e-a0ba-0c5438e743f7",
   "metadata": {},
   "outputs": [
    {
     "data": {
      "text/plain": [
       "tuple"
      ]
     },
     "execution_count": 69,
     "metadata": {},
     "output_type": "execute_result"
    }
   ],
   "source": [
    "type(tuple_mL)"
   ]
  },
  {
   "cell_type": "code",
   "execution_count": 71,
   "id": "fcf3e904-5689-4bbe-84e9-d4e127124ce5",
   "metadata": {},
   "outputs": [
    {
     "data": {
      "text/plain": [
       "100"
      ]
     },
     "execution_count": 71,
     "metadata": {},
     "output_type": "execute_result"
    }
   ],
   "source": [
    "tuple_mL[0]"
   ]
  },
  {
   "cell_type": "markdown",
   "id": "2c330c4f-66ab-488f-ad6c-00d77115a3f1",
   "metadata": {},
   "source": [
    "## SETS\n",
    "- similar to list and tuple but don't have duplicate element\n",
    "- values within a set cannot be accessed using index since unordered\n",
    "- when duplicate values are present, return only unique values\n",
    "- OR -> |\n",
    "- AND -> &\n",
    "- CARET -> ^ (values appearing either but not both)"
   ]
  },
  {
   "cell_type": "code",
   "execution_count": 75,
   "id": "aaa94ed8-2e0e-487b-aee5-6d15cc329f53",
   "metadata": {},
   "outputs": [],
   "source": [
    "daily_pints = {1, 2, 3}"
   ]
  },
  {
   "cell_type": "code",
   "execution_count": 79,
   "id": "5776fd99-e107-45b4-9888-867d8860af2f",
   "metadata": {},
   "outputs": [
    {
     "data": {
      "text/plain": [
       "set"
      ]
     },
     "execution_count": 79,
     "metadata": {},
     "output_type": "execute_result"
    }
   ],
   "source": [
    "type(daily_pints)"
   ]
  },
  {
   "cell_type": "code",
   "execution_count": 81,
   "id": "46a108f4-57f2-4946-847c-58126a8ca88b",
   "metadata": {},
   "outputs": [
    {
     "name": "stdout",
     "output_type": "stream",
     "text": [
      "{1, 2, 3}\n"
     ]
    }
   ],
   "source": [
    "print(daily_pints)"
   ]
  },
  {
   "cell_type": "code",
   "execution_count": 108,
   "id": "8ac994e8-7285-4590-bd64-aa70e6a93fcb",
   "metadata": {},
   "outputs": [
    {
     "data": {
      "text/plain": [
       "{0, 1, 2, 3}"
      ]
     },
     "execution_count": 108,
     "metadata": {},
     "output_type": "execute_result"
    }
   ],
   "source": [
    "daily_pints_log = {1, 2, 3, 2, 2, 3, 1, 2, 0}\n",
    "\n",
    "daily_pints_log"
   ]
  },
  {
   "cell_type": "code",
   "execution_count": 106,
   "id": "4597f26c-f857-4ac3-ad37-aed5e33e7e9a",
   "metadata": {},
   "outputs": [
    {
     "data": {
      "text/plain": [
       "{1, 2, 3, 4}"
      ]
     },
     "execution_count": 106,
     "metadata": {},
     "output_type": "execute_result"
    }
   ],
   "source": [
    "bf_daily_pints_log = {2, 4, 1, 3, 1, 3, 2, 2}\n",
    "\n",
    "bf_daily_pints_log"
   ]
  },
  {
   "cell_type": "code",
   "execution_count": 110,
   "id": "107c3e18-3ac9-489c-83ae-44e68c1e0e97",
   "metadata": {},
   "outputs": [
    {
     "name": "stdout",
     "output_type": "stream",
     "text": [
      "{0, 1, 2, 3, 4}\n"
     ]
    }
   ],
   "source": [
    "print(daily_pints_log | bf_daily_pints_log)"
   ]
  },
  {
   "cell_type": "code",
   "execution_count": 112,
   "id": "e534bc6f-04b7-4fa7-8a80-9aa46625f8aa",
   "metadata": {},
   "outputs": [
    {
     "name": "stdout",
     "output_type": "stream",
     "text": [
      "{1, 2, 3}\n"
     ]
    }
   ],
   "source": [
    "print(daily_pints_log & bf_daily_pints_log)"
   ]
  },
  {
   "cell_type": "code",
   "execution_count": 114,
   "id": "b1421860-793b-4983-9564-21227fe0b225",
   "metadata": {},
   "outputs": [
    {
     "name": "stdout",
     "output_type": "stream",
     "text": [
      "{0}\n"
     ]
    }
   ],
   "source": [
    "print(daily_pints_log - bf_daily_pints_log)"
   ]
  },
  {
   "cell_type": "code",
   "execution_count": 118,
   "id": "9582988d-7bd2-41d0-bff9-55f08e5c4b53",
   "metadata": {},
   "outputs": [
    {
     "name": "stdout",
     "output_type": "stream",
     "text": [
      "{4}\n"
     ]
    }
   ],
   "source": [
    "print(bf_daily_pints_log - daily_pints_log)"
   ]
  },
  {
   "cell_type": "code",
   "execution_count": 116,
   "id": "2a3d3941-e360-4099-88e0-d6b1dceea658",
   "metadata": {},
   "outputs": [
    {
     "name": "stdout",
     "output_type": "stream",
     "text": [
      "{0, 4}\n"
     ]
    }
   ],
   "source": [
    "print(daily_pints_log ^ bf_daily_pints_log)"
   ]
  },
  {
   "cell_type": "markdown",
   "id": "8b06add7-8f26-4059-806b-7dfac211efb3",
   "metadata": {},
   "source": [
    "## DICTIONARIES\n",
    "- KEY/VALUE PAIR"
   ]
  },
  {
   "cell_type": "code",
   "execution_count": 121,
   "id": "d52eb2d5-3b9b-4199-9e13-46c48b10e77b",
   "metadata": {},
   "outputs": [],
   "source": [
    "dict_fruit = {'name':'Alodia Bendicio', 'weekly intake': 3, 'favorite fruits': ['mango', 'lychee']}"
   ]
  },
  {
   "cell_type": "code",
   "execution_count": 123,
   "id": "7d12d834-54e6-4b83-b7b3-c3882c1cd091",
   "metadata": {},
   "outputs": [
    {
     "data": {
      "text/plain": [
       "dict"
      ]
     },
     "execution_count": 123,
     "metadata": {},
     "output_type": "execute_result"
    }
   ],
   "source": [
    "type(dict_fruit)"
   ]
  },
  {
   "cell_type": "code",
   "execution_count": 127,
   "id": "a6626ed1-1526-4621-a53b-fc893a218948",
   "metadata": {},
   "outputs": [
    {
     "name": "stdout",
     "output_type": "stream",
     "text": [
      "{'name': 'Alodia Bendicio', 'weekly intake': 3, 'favorite fruits': ['mango', 'lychee']}\n"
     ]
    }
   ],
   "source": [
    "print(dict_fruit)"
   ]
  },
  {
   "cell_type": "code",
   "execution_count": 129,
   "id": "0878358e-9973-4570-9339-1ed36d9c4956",
   "metadata": {},
   "outputs": [
    {
     "data": {
      "text/plain": [
       "dict_values(['Alodia Bendicio', 3, ['mango', 'lychee']])"
      ]
     },
     "execution_count": 129,
     "metadata": {},
     "output_type": "execute_result"
    }
   ],
   "source": [
    "dict_fruit.values()"
   ]
  },
  {
   "cell_type": "code",
   "execution_count": 131,
   "id": "2fd06a58-6b80-44d9-aed7-2e7f5002d6f6",
   "metadata": {},
   "outputs": [
    {
     "data": {
      "text/plain": [
       "dict_keys(['name', 'weekly intake', 'favorite fruits'])"
      ]
     },
     "execution_count": 131,
     "metadata": {},
     "output_type": "execute_result"
    }
   ],
   "source": [
    "dict_fruit.keys()"
   ]
  },
  {
   "cell_type": "code",
   "execution_count": 133,
   "id": "711c3862-aad2-4a1a-80e5-2f81d197fd6c",
   "metadata": {},
   "outputs": [
    {
     "data": {
      "text/plain": [
       "dict_items([('name', 'Alodia Bendicio'), ('weekly intake', 3), ('favorite fruits', ['mango', 'lychee'])])"
      ]
     },
     "execution_count": 133,
     "metadata": {},
     "output_type": "execute_result"
    }
   ],
   "source": [
    "dict_fruit.items()"
   ]
  },
  {
   "cell_type": "code",
   "execution_count": 135,
   "id": "92eb7627-bef1-42a3-9581-b3ddd744e523",
   "metadata": {},
   "outputs": [
    {
     "data": {
      "text/plain": [
       "'Alodia Bendicio'"
      ]
     },
     "execution_count": 135,
     "metadata": {},
     "output_type": "execute_result"
    }
   ],
   "source": [
    "dict_fruit['name']"
   ]
  },
  {
   "cell_type": "code",
   "execution_count": 143,
   "id": "fec34eca-b57d-4ab2-97ed-8dc431c7c82e",
   "metadata": {},
   "outputs": [
    {
     "name": "stdout",
     "output_type": "stream",
     "text": [
      "{'name': 'Paul Olayvar', 'weekly intake': 3, 'favorite fruits': ['mango', 'lychee']}\n"
     ]
    }
   ],
   "source": [
    "dict_fruit['name'] = 'Paul Olayvar'\n",
    "\n",
    "print(dict_fruit)"
   ]
  },
  {
   "cell_type": "code",
   "execution_count": 159,
   "id": "53c5557a-cc74-4f24-becf-e1b0625e9a5f",
   "metadata": {},
   "outputs": [
    {
     "name": "stdout",
     "output_type": "stream",
     "text": [
      "{'name': 'Paul Olayvar', 'weekly intake': 5, 'favorite fruits': ['mango', 'lychee'], 'weight': 80}\n"
     ]
    }
   ],
   "source": [
    "dict_fruit.update({'name': 'Paul Olayvar', 'weekly intake': 5, 'weight': 80})\n",
    "\n",
    "print(dict_fruit)"
   ]
  },
  {
   "cell_type": "code",
   "execution_count": 161,
   "id": "c7da6686-fcea-48d2-877f-1c946a2c57be",
   "metadata": {},
   "outputs": [
    {
     "name": "stdout",
     "output_type": "stream",
     "text": [
      "{'name': 'Paul Olayvar', 'weekly intake': 5, 'favorite fruits': ['mango', 'lychee']}\n"
     ]
    }
   ],
   "source": [
    "del dict_fruit['weight']\n",
    "\n",
    "print(dict_fruit)"
   ]
  },
  {
   "cell_type": "code",
   "execution_count": null,
   "id": "9380cc4e-3387-4193-952b-00121a5b50b9",
   "metadata": {},
   "outputs": [],
   "source": []
  },
  {
   "cell_type": "code",
   "execution_count": null,
   "id": "05bebffc-dd85-4ce4-81d4-6b26332dfe08",
   "metadata": {},
   "outputs": [],
   "source": []
  }
 ],
 "metadata": {
  "kernelspec": {
   "display_name": "Python 3 (ipykernel)",
   "language": "python",
   "name": "python3"
  },
  "language_info": {
   "codemirror_mode": {
    "name": "ipython",
    "version": 3
   },
   "file_extension": ".py",
   "mimetype": "text/x-python",
   "name": "python",
   "nbconvert_exporter": "python",
   "pygments_lexer": "ipython3",
   "version": "3.12.4"
  }
 },
 "nbformat": 4,
 "nbformat_minor": 5
}
