{
 "cells": [
  {
   "cell_type": "markdown",
   "id": "1abd8c08-c283-4a1f-baad-f4f2a0b1eee0",
   "metadata": {},
   "source": [
    "# COMPARISON OPERATORS"
   ]
  },
  {
   "cell_type": "markdown",
   "id": "0ebf5fd8-38d1-491f-aeb7-d0e65bee55f6",
   "metadata": {},
   "source": [
    "      ==                Equal\n",
    "      !=                Not Equal\n",
    "      >                 Greater than\n",
    "      <                 Less than\n",
    "      >=                Greater than or equal to\n",
    "      <=                Less than or equal to"
   ]
  },
  {
   "cell_type": "code",
   "execution_count": 10,
   "id": "e8ce7733-91ec-40e1-a4d3-2aa52c4e86c6",
   "metadata": {},
   "outputs": [
    {
     "data": {
      "text/plain": [
       "True"
      ]
     },
     "execution_count": 10,
     "metadata": {},
     "output_type": "execute_result"
    }
   ],
   "source": [
    "10 == 10"
   ]
  },
  {
   "cell_type": "code",
   "execution_count": 12,
   "id": "bb8232be-d7fd-44ee-9268-dba093911556",
   "metadata": {},
   "outputs": [
    {
     "data": {
      "text/plain": [
       "True"
      ]
     },
     "execution_count": 12,
     "metadata": {},
     "output_type": "execute_result"
    }
   ],
   "source": [
    "10 != 50"
   ]
  },
  {
   "cell_type": "code",
   "execution_count": 14,
   "id": "5b6b29d5-0d24-479c-a471-2cfa2ce5c766",
   "metadata": {},
   "outputs": [
    {
     "data": {
      "text/plain": [
       "False"
      ]
     },
     "execution_count": 14,
     "metadata": {},
     "output_type": "execute_result"
    }
   ],
   "source": [
    "'Vanilla' == 'Chocolate'"
   ]
  },
  {
   "cell_type": "code",
   "execution_count": 16,
   "id": "61e3d912-a23b-4021-967b-a66d7b38ff9d",
   "metadata": {},
   "outputs": [
    {
     "data": {
      "text/plain": [
       "True"
      ]
     },
     "execution_count": 16,
     "metadata": {},
     "output_type": "execute_result"
    }
   ],
   "source": [
    "x = 'Vanilla'\n",
    "y = 'Chocolate'\n",
    "\n",
    "x != y"
   ]
  },
  {
   "cell_type": "code",
   "execution_count": 18,
   "id": "09103262-7b31-47ca-a6fb-9ee32bb46144",
   "metadata": {},
   "outputs": [
    {
     "data": {
      "text/plain": [
       "False"
      ]
     },
     "execution_count": 18,
     "metadata": {},
     "output_type": "execute_result"
    }
   ],
   "source": [
    "10 > 10"
   ]
  },
  {
   "cell_type": "code",
   "execution_count": 20,
   "id": "6297865e-a984-4818-9e1a-4d51c403f014",
   "metadata": {},
   "outputs": [
    {
     "data": {
      "text/plain": [
       "True"
      ]
     },
     "execution_count": 20,
     "metadata": {},
     "output_type": "execute_result"
    }
   ],
   "source": [
    "10 < 50"
   ]
  },
  {
   "cell_type": "code",
   "execution_count": 22,
   "id": "e5c6690d-7e16-4e93-98a1-fab49fa58563",
   "metadata": {},
   "outputs": [
    {
     "data": {
      "text/plain": [
       "True"
      ]
     },
     "execution_count": 22,
     "metadata": {},
     "output_type": "execute_result"
    }
   ],
   "source": [
    "10 >= 10"
   ]
  },
  {
   "cell_type": "code",
   "execution_count": 24,
   "id": "d2b45606-08f7-4a1e-8f88-ef7cc52aba67",
   "metadata": {},
   "outputs": [
    {
     "data": {
      "text/plain": [
       "False"
      ]
     },
     "execution_count": 24,
     "metadata": {},
     "output_type": "execute_result"
    }
   ],
   "source": [
    "50 <= 10"
   ]
  },
  {
   "cell_type": "markdown",
   "id": "492a0826-c6de-4f76-aa89-fecdcf0c4418",
   "metadata": {},
   "source": [
    "# LOGICAL OPERATORS"
   ]
  },
  {
   "cell_type": "markdown",
   "id": "5f5bd933-57d1-4b19-b40e-838e357d5e55",
   "metadata": {},
   "source": [
    "        and - returns True if both statements are true\n",
    "        or - returns True if one of the statements is true\n",
    "        not - reverse the result"
   ]
  },
  {
   "cell_type": "code",
   "execution_count": 32,
   "id": "3849b94f-2eab-44ce-9047-f11d15cb9be0",
   "metadata": {},
   "outputs": [
    {
     "data": {
      "text/plain": [
       "True"
      ]
     },
     "execution_count": 32,
     "metadata": {},
     "output_type": "execute_result"
    }
   ],
   "source": [
    "(10 < 50) and (50 > 10)"
   ]
  },
  {
   "cell_type": "code",
   "execution_count": 34,
   "id": "d9994877-e914-4de3-b9dd-723ff9a65b2b",
   "metadata": {},
   "outputs": [
    {
     "data": {
      "text/plain": [
       "True"
      ]
     },
     "execution_count": 34,
     "metadata": {},
     "output_type": "execute_result"
    }
   ],
   "source": [
    "(10 > 50) or (50 > 10)"
   ]
  },
  {
   "cell_type": "code",
   "execution_count": 36,
   "id": "96c9198d-8bbf-4657-9e79-f2e3a526d444",
   "metadata": {},
   "outputs": [
    {
     "data": {
      "text/plain": [
       "True"
      ]
     },
     "execution_count": 36,
     "metadata": {},
     "output_type": "execute_result"
    }
   ],
   "source": [
    "('Vanilla' > 'Chocolate') and (50 > 10)"
   ]
  },
  {
   "cell_type": "code",
   "execution_count": 38,
   "id": "7e56bf2e-f4d1-4888-a7b4-174fc49529f4",
   "metadata": {},
   "outputs": [
    {
     "data": {
      "text/plain": [
       "True"
      ]
     },
     "execution_count": 38,
     "metadata": {},
     "output_type": "execute_result"
    }
   ],
   "source": [
    "('Vanilla' > 'Chocolate') or (50 < 10)"
   ]
  },
  {
   "cell_type": "code",
   "execution_count": 40,
   "id": "d6b4a606-16c2-4728-9598-073783627353",
   "metadata": {},
   "outputs": [
    {
     "data": {
      "text/plain": [
       "True"
      ]
     },
     "execution_count": 40,
     "metadata": {},
     "output_type": "execute_result"
    }
   ],
   "source": [
    "not(50 < 10)"
   ]
  },
  {
   "cell_type": "markdown",
   "id": "99582506-073b-4482-887c-4a3b46fda495",
   "metadata": {},
   "source": [
    "# MEMBERSHIP OPERATORS"
   ]
  },
  {
   "cell_type": "markdown",
   "id": "884cd04d-008d-4e61-96b2-a2a7d0d3f7fd",
   "metadata": {},
   "source": [
    "    in - returns True if a sequence w/ the specified value is present in the object\n",
    "    not in - returns True if a sequence w/ the specified value is not present in the object"
   ]
  },
  {
   "cell_type": "code",
   "execution_count": 52,
   "id": "39dd80e0-0436-4402-b665-f522bacee5da",
   "metadata": {},
   "outputs": [
    {
     "data": {
      "text/plain": [
       "True"
      ]
     },
     "execution_count": 52,
     "metadata": {},
     "output_type": "execute_result"
    }
   ],
   "source": [
    "ice_cream = 'I love vanilla ice cream.'\n",
    "\n",
    "'love' in ice_cream"
   ]
  },
  {
   "cell_type": "code",
   "execution_count": 54,
   "id": "65264efd-2798-47b7-9c9b-bcc2bdca4e06",
   "metadata": {},
   "outputs": [
    {
     "data": {
      "text/plain": [
       "True"
      ]
     },
     "execution_count": 54,
     "metadata": {},
     "output_type": "execute_result"
    }
   ],
   "source": [
    "ice_cream = 'I love vanilla ice cream.'\n",
    "\n",
    "'love' in 'I love vanilla ice cream.'"
   ]
  },
  {
   "cell_type": "code",
   "execution_count": 56,
   "id": "b2934fe9-3628-40db-9403-80a9d4ebe0fa",
   "metadata": {},
   "outputs": [
    {
     "data": {
      "text/plain": [
       "True"
      ]
     },
     "execution_count": 56,
     "metadata": {},
     "output_type": "execute_result"
    }
   ],
   "source": [
    "scoops = [1, 2, 3, 4, 5]\n",
    "wanted_scoops = 8\n",
    "\n",
    "wanted_scoops not in scoops"
   ]
  },
  {
   "cell_type": "code",
   "execution_count": null,
   "id": "c2b5f3fa-67bf-493a-ae60-b37bf708a8ad",
   "metadata": {},
   "outputs": [],
   "source": []
  },
  {
   "cell_type": "code",
   "execution_count": null,
   "id": "83f64a03-c094-4553-a087-14e7d8e94384",
   "metadata": {},
   "outputs": [],
   "source": []
  },
  {
   "cell_type": "code",
   "execution_count": null,
   "id": "01405a5a-e4af-43c3-8c0b-bac0eab991ef",
   "metadata": {},
   "outputs": [],
   "source": []
  },
  {
   "cell_type": "code",
   "execution_count": null,
   "id": "ad6be79a-b9bc-404f-8ed0-248038c68944",
   "metadata": {},
   "outputs": [],
   "source": []
  },
  {
   "cell_type": "code",
   "execution_count": null,
   "id": "cab9b45a-9bd2-4316-9391-b7f27e7c0c44",
   "metadata": {},
   "outputs": [],
   "source": []
  }
 ],
 "metadata": {
  "kernelspec": {
   "display_name": "Python 3 (ipykernel)",
   "language": "python",
   "name": "python3"
  },
  "language_info": {
   "codemirror_mode": {
    "name": "ipython",
    "version": 3
   },
   "file_extension": ".py",
   "mimetype": "text/x-python",
   "name": "python",
   "nbconvert_exporter": "python",
   "pygments_lexer": "ipython3",
   "version": "3.12.4"
  }
 },
 "nbformat": 4,
 "nbformat_minor": 5
}
