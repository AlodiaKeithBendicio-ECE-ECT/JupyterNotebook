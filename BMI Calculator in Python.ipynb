{
 "cells": [
  {
   "cell_type": "markdown",
   "id": "c709f343-1436-441b-abd7-82ffbd1a2bd4",
   "metadata": {},
   "source": [
    "# BMI CALCULATOR IN PYTHON"
   ]
  },
  {
   "cell_type": "markdown",
   "id": "bfa3ade9-1dcd-460a-a6a8-401fb49c1cd2",
   "metadata": {},
   "source": [
    "- BMI = weight (kg) / (height (cm)^2)"
   ]
  },
  {
   "cell_type": "code",
   "execution_count": 20,
   "id": "12375d22-7e5d-49a4-9ba9-eebbc5dd73f1",
   "metadata": {},
   "outputs": [
    {
     "name": "stdin",
     "output_type": "stream",
     "text": [
      "Enter your name: dia\n",
      "Enter your weight in kilograms 70\n",
      "Enter your height in meters 1.62\n"
     ]
    },
    {
     "name": "stdout",
     "output_type": "stream",
     "text": [
      "26.672763298277697\n"
     ]
    }
   ],
   "source": [
    "name = input(\"Enter your name:\")\n",
    "\n",
    "weight = int(input(\"Enter your weight in kilograms\"))\n",
    "\n",
    "height = float(input(\"Enter your height in meters\"))\n",
    "\n",
    "BMI = weight / (height*height)\n",
    "\n",
    "print(BMI)"
   ]
  },
  {
   "cell_type": "markdown",
   "id": "fc9fa443-041d-4015-ae4b-3e2b972bd970",
   "metadata": {},
   "source": [
    "- INTERPRETATION"
   ]
  },
  {
   "cell_type": "code",
   "execution_count": 26,
   "id": "43f529c9-0674-4f8c-8c6a-1f7be2adc2a1",
   "metadata": {},
   "outputs": [
    {
     "name": "stdout",
     "output_type": "stream",
     "text": [
      "dia, you are overweight.\n"
     ]
    }
   ],
   "source": [
    "if BMI > 0:\n",
    "    if BMI < 18.5:\n",
    "        print(name + \", you are underweight.\")\n",
    "    elif BMI <= 24.9:\n",
    "        print(name + \", you are normal weight.\")\n",
    "    elif BMI <= 29.9:\n",
    "        print(name + \", you are overweight.\")\n",
    "    elif BMI <= 34.9:\n",
    "        print(name + \", you are obese.\")\n",
    "    elif BMI <= 39.9:\n",
    "        print(name + \", you are severely obese.\")\n",
    "    elif BMI > 39.9:\n",
    "        print(name + \", you are morbidly obese.\")\n",
    "else:\n",
    "    print(\"Enter valid inputs.\")"
   ]
  },
  {
   "cell_type": "markdown",
   "id": "ffd51da1-8b18-47e6-98af-e17cf9c902c5",
   "metadata": {},
   "source": [
    "- COMBINE"
   ]
  },
  {
   "cell_type": "code",
   "execution_count": null,
   "id": "a02ae556-7c0d-4d35-b55e-b76213cfa4c5",
   "metadata": {},
   "outputs": [],
   "source": [
    "name = input(\"Enter your name:\")\n",
    "\n",
    "weight = int(input(\"Enter your weight in kilograms\"))\n",
    "\n",
    "height = float(input(\"Enter your height in meters\"))\n",
    "\n",
    "BMI = weight / (height*height)\n",
    "\n",
    "print(BMI)\n",
    "\n",
    "if BMI > 0:\n",
    "    if BMI < 18.5:\n",
    "        print(name + \", you are underweight.\")\n",
    "    elif BMI <= 24.9:\n",
    "        print(name + \", you are normal weight.\")\n",
    "    elif BMI <= 29.9:\n",
    "        print(name + \", you are overweight.\")\n",
    "    elif BMI <= 34.9:\n",
    "        print(name + \", you are obese.\")\n",
    "    elif BMI <= 39.9:\n",
    "        print(name + \", you are severely obese.\")\n",
    "    elif BMI > 39.9:\n",
    "        print(name + \", you are morbidly obese.\")\n",
    "else:\n",
    "    print(\"Enter valid inputs.\")"
   ]
  },
  {
   "cell_type": "code",
   "execution_count": null,
   "id": "de1dafa7-7515-4d28-9305-f87b766967f8",
   "metadata": {},
   "outputs": [],
   "source": []
  },
  {
   "cell_type": "code",
   "execution_count": null,
   "id": "2e73068c-d2a5-45ed-b9e6-dde191e51531",
   "metadata": {},
   "outputs": [],
   "source": []
  },
  {
   "cell_type": "code",
   "execution_count": null,
   "id": "1fd51894-76f9-4d1e-b3f8-8944439af450",
   "metadata": {},
   "outputs": [],
   "source": []
  },
  {
   "cell_type": "code",
   "execution_count": null,
   "id": "b150ab5e-7e8b-40fe-9951-bc977338ca98",
   "metadata": {},
   "outputs": [],
   "source": []
  },
  {
   "cell_type": "code",
   "execution_count": null,
   "id": "b8904d57-7f02-4d37-90d2-5431c445d518",
   "metadata": {},
   "outputs": [],
   "source": []
  }
 ],
 "metadata": {
  "kernelspec": {
   "display_name": "Python 3 (ipykernel)",
   "language": "python",
   "name": "python3"
  },
  "language_info": {
   "codemirror_mode": {
    "name": "ipython",
    "version": 3
   },
   "file_extension": ".py",
   "mimetype": "text/x-python",
   "name": "python",
   "nbconvert_exporter": "python",
   "pygments_lexer": "ipython3",
   "version": "3.12.4"
  }
 },
 "nbformat": 4,
 "nbformat_minor": 5
}
