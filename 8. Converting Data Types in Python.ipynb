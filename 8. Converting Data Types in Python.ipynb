{
 "cells": [
  {
   "cell_type": "markdown",
   "id": "0184a3a9-04e0-41b0-aaac-a68da1ac0631",
   "metadata": {},
   "source": [
    "# CONVERTING DATA TYPES IN PYTHON"
   ]
  },
  {
   "cell_type": "code",
   "execution_count": 2,
   "id": "6d378ad8-8581-4da7-ba52-cd3af04d7f79",
   "metadata": {},
   "outputs": [
    {
     "data": {
      "text/plain": [
       "int"
      ]
     },
     "execution_count": 2,
     "metadata": {},
     "output_type": "execute_result"
    }
   ],
   "source": [
    "num_int = 7\n",
    "\n",
    "type(num_int)"
   ]
  },
  {
   "cell_type": "code",
   "execution_count": 13,
   "id": "57961d1f-f238-4424-b01f-51dc6ce8e15f",
   "metadata": {},
   "outputs": [
    {
     "data": {
      "text/plain": [
       "str"
      ]
     },
     "execution_count": 13,
     "metadata": {},
     "output_type": "execute_result"
    }
   ],
   "source": [
    "num_str = '7'\n",
    "\n",
    "type(num_str)"
   ]
  },
  {
   "cell_type": "markdown",
   "id": "8ff85556-433b-41b9-8e1a-658333580fa1",
   "metadata": {},
   "source": [
    "- convert string -> integer"
   ]
  },
  {
   "cell_type": "code",
   "execution_count": 19,
   "id": "4ceaabcc-b960-43b0-95b4-df7bdfbd761e",
   "metadata": {},
   "outputs": [
    {
     "data": {
      "text/plain": [
       "int"
      ]
     },
     "execution_count": 19,
     "metadata": {},
     "output_type": "execute_result"
    }
   ],
   "source": [
    "num_str_conv = int(num_str)\n",
    "\n",
    "type(num_str_conv)"
   ]
  },
  {
   "cell_type": "code",
   "execution_count": 29,
   "id": "6ebcdde9-fa94-4c58-8f95-23d148cf8cab",
   "metadata": {},
   "outputs": [
    {
     "name": "stdout",
     "output_type": "stream",
     "text": [
      "14\n"
     ]
    }
   ],
   "source": [
    "num_sum = num_int + num_str_conv\n",
    "\n",
    "print(num_sum)"
   ]
  },
  {
   "cell_type": "code",
   "execution_count": 31,
   "id": "e3644c4c-c33e-4916-ac76-8366eb90f4a1",
   "metadata": {},
   "outputs": [
    {
     "data": {
      "text/plain": [
       "int"
      ]
     },
     "execution_count": 31,
     "metadata": {},
     "output_type": "execute_result"
    }
   ],
   "source": [
    "type(num_sum)"
   ]
  },
  {
   "cell_type": "markdown",
   "id": "148da406-910a-430f-88fc-e1f2af804e2d",
   "metadata": {},
   "source": [
    "- convert list -> tuple"
   ]
  },
  {
   "cell_type": "code",
   "execution_count": 37,
   "id": "3dcdf3e5-6bf7-4dc5-a7d7-dc240111f13c",
   "metadata": {},
   "outputs": [
    {
     "data": {
      "text/plain": [
       "list"
      ]
     },
     "execution_count": 37,
     "metadata": {},
     "output_type": "execute_result"
    }
   ],
   "source": [
    "list_type = [1, 2, 3]\n",
    "\n",
    "type(list_type)"
   ]
  },
  {
   "cell_type": "code",
   "execution_count": 47,
   "id": "b02bcd9a-dfaf-44f4-a470-1845adab8ade",
   "metadata": {},
   "outputs": [
    {
     "data": {
      "text/plain": [
       "(1, 2, 3)"
      ]
     },
     "execution_count": 47,
     "metadata": {},
     "output_type": "execute_result"
    }
   ],
   "source": [
    "tuple(list_type)"
   ]
  },
  {
   "cell_type": "code",
   "execution_count": 49,
   "id": "7baa5ab1-f11b-47f6-b8b4-d55329a45844",
   "metadata": {},
   "outputs": [
    {
     "data": {
      "text/plain": [
       "tuple"
      ]
     },
     "execution_count": 49,
     "metadata": {},
     "output_type": "execute_result"
    }
   ],
   "source": [
    "type(tuple(list_type))"
   ]
  },
  {
   "cell_type": "markdown",
   "id": "73c9a328-21df-4bfa-b414-33d78c339cee",
   "metadata": {},
   "source": [
    "- convert list -> set"
   ]
  },
  {
   "cell_type": "code",
   "execution_count": 51,
   "id": "8e903a1b-69d1-4a79-8f45-91091f9f2f13",
   "metadata": {},
   "outputs": [],
   "source": [
    "list_type = [1, 2, 3, 1, 1, 3, 2, 3]"
   ]
  },
  {
   "cell_type": "code",
   "execution_count": 53,
   "id": "b3766fe7-91b6-4123-86ba-f65772f81710",
   "metadata": {},
   "outputs": [
    {
     "data": {
      "text/plain": [
       "{1, 2, 3}"
      ]
     },
     "execution_count": 53,
     "metadata": {},
     "output_type": "execute_result"
    }
   ],
   "source": [
    "set(list_type)"
   ]
  },
  {
   "cell_type": "code",
   "execution_count": 55,
   "id": "06c18dd0-4f5c-489b-96cf-db172a9c6f28",
   "metadata": {},
   "outputs": [
    {
     "data": {
      "text/plain": [
       "set"
      ]
     },
     "execution_count": 55,
     "metadata": {},
     "output_type": "execute_result"
    }
   ],
   "source": [
    "type(set(list_type))"
   ]
  },
  {
   "cell_type": "markdown",
   "id": "60fc0c28-3d4e-41ba-9921-8ebffc917524",
   "metadata": {},
   "source": [
    "- convert dictionary -> list"
   ]
  },
  {
   "cell_type": "code",
   "execution_count": 60,
   "id": "b10fdb44-6d7b-4fcf-a255-b179b059e160",
   "metadata": {},
   "outputs": [
    {
     "data": {
      "text/plain": [
       "dict"
      ]
     },
     "execution_count": 60,
     "metadata": {},
     "output_type": "execute_result"
    }
   ],
   "source": [
    "dict_type = {'name': 'Alodia', 'age': 23, 'height': 162}\n",
    "\n",
    "type(dict_type)"
   ]
  },
  {
   "cell_type": "code",
   "execution_count": 62,
   "id": "e2ed79d5-781a-4f91-8f7e-42a827f557c4",
   "metadata": {},
   "outputs": [
    {
     "data": {
      "text/plain": [
       "dict_items([('name', 'Alodia'), ('age', 23), ('height', 162)])"
      ]
     },
     "execution_count": 62,
     "metadata": {},
     "output_type": "execute_result"
    }
   ],
   "source": [
    "dict_type.items()"
   ]
  },
  {
   "cell_type": "code",
   "execution_count": 66,
   "id": "4ff201da-a9e9-4c3c-9fab-4bedfb06236c",
   "metadata": {},
   "outputs": [
    {
     "data": {
      "text/plain": [
       "dict_keys(['name', 'age', 'height'])"
      ]
     },
     "execution_count": 66,
     "metadata": {},
     "output_type": "execute_result"
    }
   ],
   "source": [
    "dict_type.keys()"
   ]
  },
  {
   "cell_type": "code",
   "execution_count": 68,
   "id": "9d943b01-0d4a-4f47-838c-85c75e44d6f2",
   "metadata": {},
   "outputs": [
    {
     "data": {
      "text/plain": [
       "dict_values(['Alodia', 23, 162])"
      ]
     },
     "execution_count": 68,
     "metadata": {},
     "output_type": "execute_result"
    }
   ],
   "source": [
    "dict_type.values()"
   ]
  },
  {
   "cell_type": "code",
   "execution_count": 71,
   "id": "1aa43292-d09c-445b-bcaa-5bdadd7ed274",
   "metadata": {},
   "outputs": [
    {
     "data": {
      "text/plain": [
       "['name', 'age', 'height']"
      ]
     },
     "execution_count": 71,
     "metadata": {},
     "output_type": "execute_result"
    }
   ],
   "source": [
    "list(dict_type.keys())"
   ]
  },
  {
   "cell_type": "code",
   "execution_count": 73,
   "id": "51aa07d8-7b02-4894-a346-e01962a9952d",
   "metadata": {},
   "outputs": [
    {
     "data": {
      "text/plain": [
       "['Alodia', 23, 162]"
      ]
     },
     "execution_count": 73,
     "metadata": {},
     "output_type": "execute_result"
    }
   ],
   "source": [
    "list(dict_type.values())"
   ]
  },
  {
   "cell_type": "markdown",
   "id": "f5dfc59e-8be8-4319-8abd-2bdeedec438f",
   "metadata": {},
   "source": [
    "- longer strings -> list, set"
   ]
  },
  {
   "cell_type": "code",
   "execution_count": 76,
   "id": "14894af7-4311-4336-b267-fd048f24ea7c",
   "metadata": {},
   "outputs": [],
   "source": [
    "long_str = 'I am Alodia'"
   ]
  },
  {
   "cell_type": "code",
   "execution_count": 78,
   "id": "8bd2c892-909f-4110-893f-b73309353108",
   "metadata": {},
   "outputs": [
    {
     "data": {
      "text/plain": [
       "['I', ' ', 'a', 'm', ' ', 'A', 'l', 'o', 'd', 'i', 'a']"
      ]
     },
     "execution_count": 78,
     "metadata": {},
     "output_type": "execute_result"
    }
   ],
   "source": [
    "list(long_str)"
   ]
  },
  {
   "cell_type": "code",
   "execution_count": 80,
   "id": "579cd6b5-8b04-4743-b65c-620e687de559",
   "metadata": {},
   "outputs": [
    {
     "data": {
      "text/plain": [
       "{' ', 'A', 'I', 'a', 'd', 'i', 'l', 'm', 'o'}"
      ]
     },
     "execution_count": 80,
     "metadata": {},
     "output_type": "execute_result"
    }
   ],
   "source": [
    "set(long_str)"
   ]
  },
  {
   "cell_type": "code",
   "execution_count": null,
   "id": "e7340409-aafc-484d-8b5d-27193a5bd4a0",
   "metadata": {},
   "outputs": [],
   "source": []
  }
 ],
 "metadata": {
  "kernelspec": {
   "display_name": "Python 3 (ipykernel)",
   "language": "python",
   "name": "python3"
  },
  "language_info": {
   "codemirror_mode": {
    "name": "ipython",
    "version": 3
   },
   "file_extension": ".py",
   "mimetype": "text/x-python",
   "name": "python",
   "nbconvert_exporter": "python",
   "pygments_lexer": "ipython3",
   "version": "3.12.4"
  }
 },
 "nbformat": 4,
 "nbformat_minor": 5
}
