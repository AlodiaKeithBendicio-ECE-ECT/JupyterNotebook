{
 "cells": [
  {
   "cell_type": "markdown",
   "id": "e1b99c1b-4da7-4127-8470-200ae2a67f33",
   "metadata": {},
   "source": [
    "# AUTOMATIC FILE SORTER in FILE EXPLORER"
   ]
  },
  {
   "cell_type": "code",
   "execution_count": 3,
   "id": "7ee20a79-aca5-4987-a7b7-22b1c4193068",
   "metadata": {},
   "outputs": [],
   "source": [
    "import os, shutil"
   ]
  },
  {
   "cell_type": "markdown",
   "id": "6ff478be-5003-45ae-94e8-4bef0541d6c4",
   "metadata": {},
   "source": [
    "- insert 'r' to make the path raw text\n",
    "- change backslashes to forward slashes\n",
    "- add another forward slash at the end to create the folders inside the path"
   ]
  },
  {
   "cell_type": "code",
   "execution_count": 37,
   "id": "0fe4fe12-b178-4882-afe8-543a2752585b",
   "metadata": {},
   "outputs": [],
   "source": [
    "path = r\"C:/Users/arfil/Downloads/DATA ANALYST FOLDER/\""
   ]
  },
  {
   "cell_type": "markdown",
   "id": "48e0340f-9b92-443f-af15-0c39fd108c0a",
   "metadata": {},
   "source": [
    "- what files are in the path"
   ]
  },
  {
   "cell_type": "code",
   "execution_count": 31,
   "id": "66be0ffe-4e53-46ce-905f-e25c27b89be9",
   "metadata": {},
   "outputs": [
    {
     "name": "stdout",
     "output_type": "stream",
     "text": [
      "['.ipynb_checkpoints', '.RData', '.Rhistory', '16. DATA CLEANING.sql', '202407-divvy-tripdata.csv', '3. Date and Time in R.R', 'Anaconda3-2024.06-1-Windows-x86_64.exe', 'AnyDesk.exe', 'BENDICIO - Data Analyst Resume - July 2024.pdf', 'Bike_Sales_2021.xlsx', 'Bike_Sales_2022.xlsx', 'Bike_Sales_CSV_Lab.csv', 'Bike_Sales_Outlier_Lab.xlsx', 'BIRTH CERT, CEDULA.pdf', 'CEDULA, IDs.docx', 'Certifications & Badges', 'CHANGELOG.docx', 'Cisco Lab Sample Files', 'dia okada.jpeg', 'dia palawan pic dp.jpg', 'Excel Project Dataset.xlsx', 'Google Data Analytics - CAPSTONE', 'How do you typically approach SQL queries and database management tasks in your previous roles.docx', 'INTERNET SPEED.png', 'LAPTOP SYSTEM INFORMATION.png', 'MEDRISK_LLC.docx', 'MS EXCEL - Dia', 'MySQL Dia', 'R', 'R-4.4.1-win.exe', 'RStudio-2024.04.2-764.exe', 'TABLEAU - Dia', 'TaskUS - BIDS_Assessment', 'Three Palmer Penguins.png']\n"
     ]
    }
   ],
   "source": [
    "file_name = os.listdir(path)   # os.listdirectories\n",
    "\n",
    "print(file_name)"
   ]
  },
  {
   "cell_type": "markdown",
   "id": "e13f3907-91a6-4b1d-bb11-7ff49d7b5802",
   "metadata": {},
   "source": [
    "- creating the folders"
   ]
  },
  {
   "cell_type": "code",
   "execution_count": 39,
   "id": "f84c78c1-b635-4e98-b930-e4dd0f10feec",
   "metadata": {},
   "outputs": [
    {
     "name": "stdout",
     "output_type": "stream",
     "text": [
      "C:/Users/arfil/Downloads/DATA ANALYST FOLDER/.xlsx files\n",
      "C:/Users/arfil/Downloads/DATA ANALYST FOLDER/.sql files\n",
      "C:/Users/arfil/Downloads/DATA ANALYST FOLDER/.csv files\n",
      "C:/Users/arfil/Downloads/DATA ANALYST FOLDER/.docx files\n",
      "C:/Users/arfil/Downloads/DATA ANALYST FOLDER/.png files\n",
      "C:/Users/arfil/Downloads/DATA ANALYST FOLDER/.jpeg files\n",
      "C:/Users/arfil/Downloads/DATA ANALYST FOLDER/.exe files\n",
      "C:/Users/arfil/Downloads/DATA ANALYST FOLDER/.pdf files\n"
     ]
    }
   ],
   "source": [
    "folder_names = ['.xlsx files', '.sql files', '.csv files', '.docx files', \n",
    "                '.png files', '.jpeg files', '.exe files', '.pdf files']\n",
    "\n",
    "for loop in range(0,8):\n",
    "    if not os.path.exists(path + folder_names[loop]):\n",
    "        print(path + folder_names[loop])\n",
    "        os.makedirs(path + folder_names[loop])"
   ]
  },
  {
   "cell_type": "markdown",
   "id": "6bf4cc63-7403-4188-8154-aad1d1002b34",
   "metadata": {},
   "source": [
    "- script that will read and identify file type and place into correct folder"
   ]
  },
  {
   "cell_type": "code",
   "execution_count": 45,
   "id": "599be62c-2014-407b-a326-7bba776e7a8e",
   "metadata": {},
   "outputs": [],
   "source": [
    "for file in file_name:\n",
    "    if \".xlsx\" in file and not os.path.exists(path + \".xlsx files/\" + file):\n",
    "        shutil.move(path + file, path + \".xlsx files/\" + file)\n",
    "    elif \".sql\" in file and not os.path.exists(path + \".sql files/\" + file):\n",
    "        shutil.move(path + file, path + \".sql files/\" + file)    \n",
    "    elif \".csv\" in file and not os.path.exists(path + \".csv files/\" + file):\n",
    "        shutil.move(path + file, path + \".csv files/\" + file)\n",
    "    elif \".docx\" in file and not os.path.exists(path + \".docx files/\" + file):\n",
    "        shutil.move(path + file, path + \".docx files/\" + file)\n",
    "    elif \".png\" in file and not os.path.exists(path + \".png files/\" + file):\n",
    "        shutil.move(path + file, path + \".png files/\" + file)\n",
    "    elif \".jpeg\" in file and not os.path.exists(path + \".jpeg files/\" + file):\n",
    "        shutil.move(path + file, path + \".jpeg files/\" + file)\n",
    "    elif \".exe\" in file and not os.path.exists(path + \".exe files/\" + file):\n",
    "        shutil.move(path + file, path + \".exe files/\" + file)\n",
    "    elif \".pdf\" in file and not os.path.exists(path + \".pdf files/\" + file):\n",
    "        shutil.move(path + file, path + \".pdf files/\" + file)"
   ]
  },
  {
   "cell_type": "code",
   "execution_count": null,
   "id": "55060864-7b00-4a20-bab3-bbd4bd195105",
   "metadata": {},
   "outputs": [],
   "source": []
  },
  {
   "cell_type": "code",
   "execution_count": null,
   "id": "bb78252e-0a5d-4f45-9bef-2c5d44a8dee4",
   "metadata": {},
   "outputs": [],
   "source": []
  },
  {
   "cell_type": "code",
   "execution_count": null,
   "id": "7edf8b51-002a-409e-9bfa-18fdd6954368",
   "metadata": {},
   "outputs": [],
   "source": []
  }
 ],
 "metadata": {
  "kernelspec": {
   "display_name": "Python 3 (ipykernel)",
   "language": "python",
   "name": "python3"
  },
  "language_info": {
   "codemirror_mode": {
    "name": "ipython",
    "version": 3
   },
   "file_extension": ".py",
   "mimetype": "text/x-python",
   "name": "python",
   "nbconvert_exporter": "python",
   "pygments_lexer": "ipython3",
   "version": "3.12.4"
  }
 },
 "nbformat": 4,
 "nbformat_minor": 5
}
