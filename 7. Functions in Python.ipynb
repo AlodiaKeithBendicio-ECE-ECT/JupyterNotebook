{
 "cells": [
  {
   "cell_type": "markdown",
   "id": "c64b535c-cd22-4695-b783-30077b301717",
   "metadata": {},
   "source": [
    "# FUNCTIONS IN PYTHON"
   ]
  },
  {
   "cell_type": "markdown",
   "id": "ec0c806d-b13d-4cb2-b948-2d2979e959ee",
   "metadata": {},
   "source": [
    "- function is a block of code which only runs when you call it"
   ]
  },
  {
   "cell_type": "code",
   "execution_count": 4,
   "id": "5aa11f0d-24b3-40b2-94f6-57f28adf1539",
   "metadata": {},
   "outputs": [],
   "source": [
    "def my_name():\n",
    "    print('Alodia')"
   ]
  },
  {
   "cell_type": "code",
   "execution_count": 6,
   "id": "43162643-d12d-41f6-b919-5c8de25edbd4",
   "metadata": {},
   "outputs": [
    {
     "name": "stdout",
     "output_type": "stream",
     "text": [
      "Alodia\n"
     ]
    }
   ],
   "source": [
    "my_name()"
   ]
  },
  {
   "cell_type": "markdown",
   "id": "785e5da5-93bc-405f-ab67-a4a16ce5d0fd",
   "metadata": {},
   "source": [
    "##### ARGUMENTS"
   ]
  },
  {
   "cell_type": "code",
   "execution_count": 17,
   "id": "69a1dce3-5f54-488a-8456-26641240f158",
   "metadata": {},
   "outputs": [],
   "source": [
    "def number_squared(number):\n",
    "    print(number**2)"
   ]
  },
  {
   "cell_type": "code",
   "execution_count": 27,
   "id": "4c0e57e1-5646-44e8-a86a-26b8b8540c35",
   "metadata": {},
   "outputs": [
    {
     "name": "stdout",
     "output_type": "stream",
     "text": [
      "25\n"
     ]
    }
   ],
   "source": [
    "number_squared(5)"
   ]
  },
  {
   "cell_type": "markdown",
   "id": "4b4e8688-d220-4feb-9cc1-5878ba8c25c1",
   "metadata": {},
   "source": [
    "##### MULTIPLE ARGUMENTS"
   ]
  },
  {
   "cell_type": "code",
   "execution_count": 29,
   "id": "7227a323-21f5-4a66-b20f-5b9083f17878",
   "metadata": {},
   "outputs": [],
   "source": [
    "def number_power(number,power):\n",
    "    print(number**power)"
   ]
  },
  {
   "cell_type": "code",
   "execution_count": 31,
   "id": "fcbf389a-0aff-41ab-8484-65b08756af91",
   "metadata": {},
   "outputs": [
    {
     "name": "stdout",
     "output_type": "stream",
     "text": [
      "125\n"
     ]
    }
   ],
   "source": [
    "number_power(5,3)"
   ]
  },
  {
   "cell_type": "markdown",
   "id": "4554f023-7ce6-4c42-9c5e-46acf02f8a19",
   "metadata": {},
   "source": [
    "##### ARBITRARY ARGUMENTS\n",
    "- if the number of arguments are still unknown\n",
    "- the number of arguments can be specified later on\n",
    "- single star (*) for argument"
   ]
  },
  {
   "cell_type": "code",
   "execution_count": 44,
   "id": "4ca71133-9374-4cab-b62f-4d107833aabc",
   "metadata": {},
   "outputs": [
    {
     "name": "stdout",
     "output_type": "stream",
     "text": [
      "30\n"
     ]
    }
   ],
   "source": [
    "def number_args(*number):\n",
    "    print(number[0]*number[1])\n",
    "\n",
    "number_args(5, 6, 1, 2, 8)"
   ]
  },
  {
   "cell_type": "code",
   "execution_count": 46,
   "id": "98a45bd5-5fab-4824-824b-1dff803a8b39",
   "metadata": {},
   "outputs": [
    {
     "name": "stdout",
     "output_type": "stream",
     "text": [
      "30\n"
     ]
    }
   ],
   "source": [
    "args_tuple = (5, 6, 1, 2, 8)\n",
    "\n",
    "def number_args(*number):\n",
    "    print(number[0]*number[1])\n",
    "\n",
    "number_args(*args_tuple)"
   ]
  },
  {
   "cell_type": "markdown",
   "id": "dc0e4efd-e275-4540-b298-fb6c1f3768a1",
   "metadata": {},
   "source": [
    "##### KEYWORD ARGUMENTS\n",
    "- gives more control over the arguments, not just by relative position\n",
    "- specify the arguments\n",
    "- double star (**) for argument"
   ]
  },
  {
   "cell_type": "code",
   "execution_count": 49,
   "id": "66501502-6687-49fb-8b2d-6c0fbfd009b1",
   "metadata": {},
   "outputs": [
    {
     "name": "stdout",
     "output_type": "stream",
     "text": [
      "243\n"
     ]
    }
   ],
   "source": [
    "def number_power(number,power):\n",
    "    print(number**power)\n",
    "\n",
    "number_power(power = 5, number = 3)"
   ]
  },
  {
   "cell_type": "code",
   "execution_count": 8,
   "id": "1f906668-a1ec-492c-8490-490efb769f69",
   "metadata": {},
   "outputs": [],
   "source": [
    "def blendi_orders(**order):\n",
    "    print('My orders: ' + order['flavor1'] + ', ' + order['flavor2'])"
   ]
  },
  {
   "cell_type": "code",
   "execution_count": 10,
   "id": "5e07fbf7-56dc-4606-847a-e301bee35915",
   "metadata": {},
   "outputs": [
    {
     "name": "stdout",
     "output_type": "stream",
     "text": [
      "My orders: Blueberry Fruit Tea, Lychee Fruit Tea\n"
     ]
    }
   ],
   "source": [
    "blendi_orders(flavor1 = 'Blueberry Fruit Tea', flavor2 = 'Lychee Fruit Tea')"
   ]
  },
  {
   "cell_type": "code",
   "execution_count": null,
   "id": "6c6c4dd9-97d6-4bc7-88c4-15045e8d88d3",
   "metadata": {},
   "outputs": [],
   "source": []
  },
  {
   "cell_type": "code",
   "execution_count": null,
   "id": "249bcf31-8988-44bf-94c9-48edd1a8a443",
   "metadata": {},
   "outputs": [],
   "source": []
  },
  {
   "cell_type": "code",
   "execution_count": null,
   "id": "03c700a1-2a2d-47ea-a024-d9917323b31a",
   "metadata": {},
   "outputs": [],
   "source": []
  }
 ],
 "metadata": {
  "kernelspec": {
   "display_name": "Python 3 (ipykernel)",
   "language": "python",
   "name": "python3"
  },
  "language_info": {
   "codemirror_mode": {
    "name": "ipython",
    "version": 3
   },
   "file_extension": ".py",
   "mimetype": "text/x-python",
   "name": "python",
   "nbconvert_exporter": "python",
   "pygments_lexer": "ipython3",
   "version": "3.12.4"
  }
 },
 "nbformat": 4,
 "nbformat_minor": 5
}
