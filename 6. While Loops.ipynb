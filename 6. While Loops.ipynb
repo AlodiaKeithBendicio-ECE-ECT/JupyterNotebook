{
 "cells": [
  {
   "cell_type": "markdown",
   "id": "6d9e9fe2-4266-4ad8-9a8c-0f70b33de4b9",
   "metadata": {},
   "source": [
    "# WHIILE LOOPS"
   ]
  },
  {
   "cell_type": "markdown",
   "id": "b78378f6-fe07-4b60-a944-b5a48e44644c",
   "metadata": {},
   "source": [
    "- used to iterate over a block of code as long as the test condition is true\n",
    "- for loops: iterate over the entire sequence regardless of a condition\n",
    "- while loops: only iterate over a sequence as long as specific condition is met\n",
    "- once the condition is not met, the code is going to stop and not going to iterate through the rest of the sequence"
   ]
  },
  {
   "cell_type": "code",
   "execution_count": 4,
   "id": "4c5c9dfb-8812-4b63-9f7e-fa0391b8db98",
   "metadata": {},
   "outputs": [
    {
     "name": "stdout",
     "output_type": "stream",
     "text": [
      "0\n",
      "1\n",
      "2\n",
      "3\n",
      "4\n"
     ]
    }
   ],
   "source": [
    "number = 0\n",
    "\n",
    "while number < 5:\n",
    "    print(number)\n",
    "    number = number + 1"
   ]
  },
  {
   "cell_type": "markdown",
   "id": "e33d5c7b-5241-4a07-81cd-f64e38b88131",
   "metadata": {},
   "source": [
    "- BREAK STATEMENT: stop the loop even if the while condition is true"
   ]
  },
  {
   "cell_type": "code",
   "execution_count": 13,
   "id": "4b428c3a-e430-4401-9961-ff9ad0b55766",
   "metadata": {},
   "outputs": [
    {
     "name": "stdout",
     "output_type": "stream",
     "text": [
      "0\n",
      "1\n",
      "2\n",
      "3\n"
     ]
    }
   ],
   "source": [
    "number = 0\n",
    "\n",
    "while number < 5:\n",
    "    print(number)\n",
    "    if number == 3:\n",
    "        break\n",
    "    number = number + 1"
   ]
  },
  {
   "cell_type": "markdown",
   "id": "b39496a7-ca1a-4c7f-8168-e418b325dfd9",
   "metadata": {},
   "source": [
    "- ELSE STATEMENT: activates when the condition is no longer true"
   ]
  },
  {
   "cell_type": "code",
   "execution_count": 16,
   "id": "dc944b5b-7b9c-471e-b22c-e75d3d0060af",
   "metadata": {},
   "outputs": [
    {
     "name": "stdout",
     "output_type": "stream",
     "text": [
      "0\n",
      "1\n",
      "2\n",
      "3\n",
      "4\n",
      "No longer < 5\n"
     ]
    }
   ],
   "source": [
    "number = 0\n",
    "\n",
    "while number < 5:\n",
    "    print(number)\n",
    "    if number == 6:\n",
    "        break\n",
    "    number = number + 1\n",
    "else:\n",
    "    print('No longer < 5')"
   ]
  },
  {
   "cell_type": "code",
   "execution_count": 18,
   "id": "fdbca6e0-546c-4a4d-9536-c34c4c4d98d3",
   "metadata": {},
   "outputs": [
    {
     "name": "stdout",
     "output_type": "stream",
     "text": [
      "0\n",
      "1\n",
      "2\n",
      "3\n"
     ]
    }
   ],
   "source": [
    "number = 0\n",
    "\n",
    "while number < 5:\n",
    "    print(number)\n",
    "    if number == 3:\n",
    "        break\n",
    "    number = number + 1\n",
    "else:\n",
    "    print('No longer < 5')"
   ]
  },
  {
   "cell_type": "markdown",
   "id": "6cb4262d-4988-4bbb-9d47-151e41efffca",
   "metadata": {},
   "source": [
    "- CONTINUE STATEMENT: when triggered, rejects all remaining statements in the current iteration of the loop and will go to the next iteration"
   ]
  },
  {
   "cell_type": "code",
   "execution_count": 31,
   "id": "90e391db-3795-44f5-a437-068128e0c839",
   "metadata": {},
   "outputs": [
    {
     "name": "stdout",
     "output_type": "stream",
     "text": [
      "1\n",
      "2\n",
      "4\n",
      "5\n",
      "No longer < 5\n"
     ]
    }
   ],
   "source": [
    "number = 0\n",
    "\n",
    "while number < 5:\n",
    "    number = number + 1\n",
    "    if number == 3:\n",
    "        continue\n",
    "    print(number)\n",
    "else:\n",
    "    print('No longer < 5')"
   ]
  },
  {
   "cell_type": "code",
   "execution_count": null,
   "id": "edd8f539-7c9a-4ee9-8387-f474dd775c90",
   "metadata": {},
   "outputs": [],
   "source": []
  },
  {
   "cell_type": "code",
   "execution_count": null,
   "id": "09c26881-ac23-42d0-b003-faa5fb8ec511",
   "metadata": {},
   "outputs": [],
   "source": []
  },
  {
   "cell_type": "code",
   "execution_count": null,
   "id": "cb5d91e3-5542-4b88-94d4-746e9808b927",
   "metadata": {},
   "outputs": [],
   "source": []
  }
 ],
 "metadata": {
  "kernelspec": {
   "display_name": "Python 3 (ipykernel)",
   "language": "python",
   "name": "python3"
  },
  "language_info": {
   "codemirror_mode": {
    "name": "ipython",
    "version": 3
   },
   "file_extension": ".py",
   "mimetype": "text/x-python",
   "name": "python",
   "nbconvert_exporter": "python",
   "pygments_lexer": "ipython3",
   "version": "3.12.4"
  }
 },
 "nbformat": 4,
 "nbformat_minor": 5
}
