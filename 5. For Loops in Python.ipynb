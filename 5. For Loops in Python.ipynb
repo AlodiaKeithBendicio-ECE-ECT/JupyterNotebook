{
 "cells": [
  {
   "cell_type": "markdown",
   "id": "df9c49e0-0a84-4eb5-ab23-84d3c357c59b",
   "metadata": {},
   "source": [
    "# FOR LOOPS IN PYTHON"
   ]
  },
  {
   "cell_type": "markdown",
   "id": "f4d6bb20-a47c-4ce9-a5ed-96f8d88b9258",
   "metadata": {},
   "source": [
    "- used to iterate over a sequence which could be a list, tuple, array, string, or dictionary"
   ]
  },
  {
   "cell_type": "code",
   "execution_count": 3,
   "id": "3518d17b-61c3-4788-9734-dd5746eabf01",
   "metadata": {},
   "outputs": [],
   "source": [
    "integers = [1, 2, 3, 4, 5]"
   ]
  },
  {
   "cell_type": "code",
   "execution_count": 5,
   "id": "fedb4854-a836-48e8-b1d9-aa7b0c2cdbe7",
   "metadata": {},
   "outputs": [
    {
     "name": "stdout",
     "output_type": "stream",
     "text": [
      "1\n",
      "2\n",
      "3\n",
      "4\n",
      "5\n"
     ]
    }
   ],
   "source": [
    "for number in integers:\n",
    "    print(number)"
   ]
  },
  {
   "cell_type": "code",
   "execution_count": 7,
   "id": "d0c11837-da41-4334-94c3-375eb72a470e",
   "metadata": {},
   "outputs": [
    {
     "name": "stdout",
     "output_type": "stream",
     "text": [
      "hey!\n",
      "hey!\n",
      "hey!\n",
      "hey!\n",
      "hey!\n"
     ]
    }
   ],
   "source": [
    "for number in integers:\n",
    "    print('hey!')"
   ]
  },
  {
   "cell_type": "markdown",
   "id": "ba30aa1a-a1af-4580-a6ed-497b190067e3",
   "metadata": {},
   "source": [
    "- can put any name not just \"number\""
   ]
  },
  {
   "cell_type": "code",
   "execution_count": 21,
   "id": "4fc26096-b769-4754-8a41-72ca1a4a1e83",
   "metadata": {},
   "outputs": [],
   "source": [
    "integers = [1, 2, 3, 4, 5]"
   ]
  },
  {
   "cell_type": "code",
   "execution_count": 25,
   "id": "6707db90-c0ca-4133-b7df-2f852fb988e2",
   "metadata": {},
   "outputs": [
    {
     "name": "stdout",
     "output_type": "stream",
     "text": [
      "2\n",
      "4\n",
      "6\n",
      "8\n",
      "10\n"
     ]
    }
   ],
   "source": [
    "for engineer in integers:\n",
    "    print(engineer + engineer)"
   ]
  },
  {
   "cell_type": "code",
   "execution_count": 29,
   "id": "f06d70de-bb4b-48af-92d1-0b128bedbba7",
   "metadata": {},
   "outputs": [],
   "source": [
    "fruit_juice_dict = {'name': 'Alodia Bendicio', 'weekly intake': 5, 'favorite flavors': ['lychee', 'blueberry']}"
   ]
  },
  {
   "cell_type": "code",
   "execution_count": 33,
   "id": "196a8b83-7b80-415b-a93b-02b00b475f23",
   "metadata": {},
   "outputs": [
    {
     "name": "stdout",
     "output_type": "stream",
     "text": [
      "Alodia Bendicio\n",
      "5\n",
      "['lychee', 'blueberry']\n"
     ]
    }
   ],
   "source": [
    "for juice in fruit_juice_dict.values():\n",
    "    print(juice)"
   ]
  },
  {
   "cell_type": "code",
   "execution_count": 36,
   "id": "9f029216-d7e5-44de-9803-7b6469ed8d56",
   "metadata": {},
   "outputs": [
    {
     "name": "stdout",
     "output_type": "stream",
     "text": [
      "name -> Alodia Bendicio\n",
      "weekly intake -> 5\n",
      "favorite flavors -> ['lychee', 'blueberry']\n"
     ]
    }
   ],
   "source": [
    "for key, value in fruit_juice_dict.items():\n",
    "    print(key, '->', value)"
   ]
  },
  {
   "cell_type": "markdown",
   "id": "49e57c08-1ae5-491f-bfc4-734d0ab7f678",
   "metadata": {},
   "source": [
    "# NESTED FOR LOOPS IN PYTHON"
   ]
  },
  {
   "cell_type": "code",
   "execution_count": 57,
   "id": "aca92f01-125a-4a3e-87db-83de04e39815",
   "metadata": {},
   "outputs": [],
   "source": [
    "fruit_drinks = ['Lychee', 'Blueberry', 'Lemon']\n",
    "sinkers = ['nata', 'jelly', 'jam']"
   ]
  },
  {
   "cell_type": "code",
   "execution_count": 59,
   "id": "ff5861ea-e934-4a47-a041-c4d0206c1c02",
   "metadata": {},
   "outputs": [
    {
     "name": "stdout",
     "output_type": "stream",
     "text": [
      "Lychee with nata\n",
      "Lychee with jelly\n",
      "Lychee with jam\n",
      "Blueberry with nata\n",
      "Blueberry with jelly\n",
      "Blueberry with jam\n",
      "Lemon with nata\n",
      "Lemon with jelly\n",
      "Lemon with jam\n"
     ]
    }
   ],
   "source": [
    "for fruit in fruit_drinks:\n",
    "    for add_ons in sinkers:\n",
    "        print(fruit, 'with', add_ons)"
   ]
  },
  {
   "cell_type": "code",
   "execution_count": null,
   "id": "906ee1cc-566d-4010-b6dc-94ed7c9dc5cd",
   "metadata": {},
   "outputs": [],
   "source": []
  },
  {
   "cell_type": "code",
   "execution_count": null,
   "id": "8499adcd-b50c-4a14-a414-e15d108963d4",
   "metadata": {},
   "outputs": [],
   "source": []
  }
 ],
 "metadata": {
  "kernelspec": {
   "display_name": "Python 3 (ipykernel)",
   "language": "python",
   "name": "python3"
  },
  "language_info": {
   "codemirror_mode": {
    "name": "ipython",
    "version": 3
   },
   "file_extension": ".py",
   "mimetype": "text/x-python",
   "name": "python",
   "nbconvert_exporter": "python",
   "pygments_lexer": "ipython3",
   "version": "3.12.4"
  }
 },
 "nbformat": 4,
 "nbformat_minor": 5
}
