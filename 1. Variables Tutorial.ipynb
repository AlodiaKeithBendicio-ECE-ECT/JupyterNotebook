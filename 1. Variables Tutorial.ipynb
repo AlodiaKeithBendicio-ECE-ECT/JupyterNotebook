{
 "cells": [
  {
   "cell_type": "markdown",
   "id": "44ea2947-d750-490b-a5dc-8c4a4796238d",
   "metadata": {},
   "source": [
    "# Equating Variables"
   ]
  },
  {
   "cell_type": "markdown",
   "id": "171ca212-d07d-4494-8545-e473aaf38e29",
   "metadata": {},
   "source": [
    "- [Enter] for another line but same code cell\n",
    "- [Shift] [Enter] for another code cell\n"
   ]
  },
  {
   "cell_type": "code",
   "execution_count": 9,
   "id": "264575c0-bac0-4645-a675-97fcb9140b9c",
   "metadata": {},
   "outputs": [
    {
     "name": "stdout",
     "output_type": "stream",
     "text": [
      "26\n"
     ]
    }
   ],
   "source": [
    "x = 26\n",
    "\n",
    "print(x)"
   ]
  },
  {
   "cell_type": "markdown",
   "id": "f17d4ebd-62d3-4c4e-9843-cbd8e2d7ba37",
   "metadata": {},
   "source": [
    "- you no longer need to specify the variable type when coding"
   ]
  },
  {
   "cell_type": "code",
   "execution_count": 11,
   "id": "861faf14-cd82-448a-8093-c96c54e21ccc",
   "metadata": {},
   "outputs": [
    {
     "data": {
      "text/plain": [
       "int"
      ]
     },
     "execution_count": 11,
     "metadata": {},
     "output_type": "execute_result"
    }
   ],
   "source": [
    "type(x)"
   ]
  },
  {
   "cell_type": "code",
   "execution_count": 15,
   "id": "b289bc0e-b475-4153-a2e0-54ecf69016fe",
   "metadata": {},
   "outputs": [
    {
     "name": "stdout",
     "output_type": "stream",
     "text": [
      "Vanilla Ice Cream\n"
     ]
    }
   ],
   "source": [
    "y = 'Vanilla Ice Cream'\n",
    "\n",
    "print(y)"
   ]
  },
  {
   "cell_type": "code",
   "execution_count": 17,
   "id": "d118be57-dd81-4de4-a1d7-a629cdae5f0d",
   "metadata": {},
   "outputs": [
    {
     "data": {
      "text/plain": [
       "str"
      ]
     },
     "execution_count": 17,
     "metadata": {},
     "output_type": "execute_result"
    }
   ],
   "source": [
    "type(y)"
   ]
  },
  {
   "cell_type": "markdown",
   "id": "79c5787c-ef52-4364-9473-b79dd7a81773",
   "metadata": {},
   "source": [
    "- variables can overwrite the previous variable"
   ]
  },
  {
   "cell_type": "code",
   "execution_count": 20,
   "id": "5ed67cd5-8cb4-404a-93c9-e156f2a8f20a",
   "metadata": {},
   "outputs": [
    {
     "name": "stdout",
     "output_type": "stream",
     "text": [
      "Vanilla\n"
     ]
    }
   ],
   "source": [
    "y = 'Vanilla'\n",
    "\n",
    "print(y)"
   ]
  },
  {
   "cell_type": "markdown",
   "id": "4da612cb-4116-4117-84c2-7c0e9dcf2e50",
   "metadata": {},
   "source": [
    "- variables are case sensitive"
   ]
  },
  {
   "cell_type": "code",
   "execution_count": 26,
   "id": "5214f8b1-6e28-463d-bdb4-5a9fa87f3e70",
   "metadata": {},
   "outputs": [
    {
     "name": "stdout",
     "output_type": "stream",
     "text": [
      "Vanilla Ice Cream\n"
     ]
    }
   ],
   "source": [
    "y = 'Vanilla Ice Cream'\n",
    "\n",
    "Y = 'Vanilla'\n",
    "\n",
    "print(y)"
   ]
  },
  {
   "cell_type": "code",
   "execution_count": 28,
   "id": "fa9711eb-2e4f-4ebd-b490-db57fa9ca117",
   "metadata": {},
   "outputs": [
    {
     "name": "stdout",
     "output_type": "stream",
     "text": [
      "Vanilla\n"
     ]
    }
   ],
   "source": [
    "print(Y)"
   ]
  },
  {
   "cell_type": "markdown",
   "id": "adcb0f10-15ae-43fd-8e4a-13bfb250e3bc",
   "metadata": {},
   "source": [
    "- you can assign multiple values to multiple variables"
   ]
  },
  {
   "cell_type": "code",
   "execution_count": 34,
   "id": "b8e9ea01-e9f1-4c30-8f02-b7bf718ead83",
   "metadata": {},
   "outputs": [
    {
     "name": "stdout",
     "output_type": "stream",
     "text": [
      "Chocolate\n",
      "Vanilla\n",
      "Strawberry\n"
     ]
    }
   ],
   "source": [
    "x,y,z = 'Chocolate', 'Vanilla', 'Strawberry'\n",
    "\n",
    "print(x)\n",
    "print(y)\n",
    "print(z)"
   ]
  },
  {
   "cell_type": "markdown",
   "id": "47f42107-79cd-43e4-9700-1501a0705360",
   "metadata": {},
   "source": [
    "- you can assign a value to multiple variables"
   ]
  },
  {
   "cell_type": "code",
   "execution_count": 39,
   "id": "6d93b985-64ed-4758-8179-4f33d621bc75",
   "metadata": {},
   "outputs": [
    {
     "name": "stdout",
     "output_type": "stream",
     "text": [
      "Alodia Bendicio\n",
      "Alodia Bendicio\n",
      "Alodia Bendicio\n"
     ]
    }
   ],
   "source": [
    "x = y = z = 'Alodia Bendicio'\n",
    "\n",
    "print(x)\n",
    "print(y)\n",
    "print(z)"
   ]
  },
  {
   "cell_type": "markdown",
   "id": "ed865109-622d-4c22-bb0d-3f22dec8148c",
   "metadata": {},
   "source": [
    "# List vs. Tuple"
   ]
  },
  {
   "cell_type": "markdown",
   "id": "13ec875a-f4f3-4ff7-a920-5fe76faa3b08",
   "metadata": {},
   "source": [
    "- List\n",
    "  - collection of data that is ordered and changeable\n",
    "  - written in array brackets []\n",
    "- Tuple\n",
    "  - collection of data that is ordered and unchangeable\n",
    "  - faster than lists\n",
    "  - make the code safe from any accidental modification\n",
    "  - written in round brackets ()"
   ]
  },
  {
   "cell_type": "code",
   "execution_count": 43,
   "id": "bf35f543-d628-45ca-a489-da46cd693b43",
   "metadata": {},
   "outputs": [
    {
     "name": "stdout",
     "output_type": "stream",
     "text": [
      "Chocolate\n",
      "Vanilla\n",
      "Strawberry\n"
     ]
    }
   ],
   "source": [
    "ice_cream = ['Chocolate', 'Vanilla', 'Strawberry']\n",
    "\n",
    "x,y,z = ice_cream\n",
    "\n",
    "print(x)\n",
    "print(y)\n",
    "print(z)"
   ]
  },
  {
   "cell_type": "markdown",
   "id": "4f369df6-5ed9-4f0c-b502-0226f4db6b72",
   "metadata": {},
   "source": [
    "## Best Practices for Naming Variables"
   ]
  },
  {
   "cell_type": "markdown",
   "id": "9d83ceeb-a46f-4780-b782-8096fd8d34f7",
   "metadata": {},
   "source": [
    "- Camel Case\n",
    "  - testVariableCase = 'Dia'\n",
    "- Pascal Case\n",
    "  - TestVariableCase = 'Dia'\n",
    "- Snake Case\n",
    "  - test_variable_case = 'Dia'"
   ]
  },
  {
   "cell_type": "markdown",
   "id": "08f021c2-2df6-4f1b-8183-81544763b6bf",
   "metadata": {},
   "source": [
    "ex. \n",
    "1. testvar = 'Dia'\n",
    "2. test_var = 'Dia'\n",
    "3. _test_var = 'Dia'\n",
    "4. testVar = 'Dia'\n",
    "5. TestVar = 'Dia'\n",
    "6. testVar2 = 'Dia'"
   ]
  },
  {
   "cell_type": "markdown",
   "id": "21e3e883-ba12-41b3-b71e-113a945633cd",
   "metadata": {},
   "source": [
    "## Bad Practices for Naming Variables (Error)"
   ]
  },
  {
   "cell_type": "markdown",
   "id": "d501c520-139d-4784-9dcb-325cab447411",
   "metadata": {},
   "source": [
    "1. starting with a number\n",
    "2. using other symbols or space other than underscore"
   ]
  },
  {
   "cell_type": "markdown",
   "id": "7ebdf702-0bcd-4e19-960d-f13345041547",
   "metadata": {},
   "source": [
    "## Operators with Variables"
   ]
  },
  {
   "cell_type": "code",
   "execution_count": 59,
   "id": "3292cff2-3a04-4a77-ae6c-e5bf7b17f619",
   "metadata": {},
   "outputs": [
    {
     "name": "stdout",
     "output_type": "stream",
     "text": [
      "Alodia Bendicio\n"
     ]
    }
   ],
   "source": [
    "x = 'Alodia' + ' ' + 'Bendicio'\n",
    "\n",
    "print(x)"
   ]
  },
  {
   "cell_type": "code",
   "execution_count": 61,
   "id": "75d767b0-a8c9-4a27-bf04-538338164217",
   "metadata": {},
   "outputs": [
    {
     "name": "stdout",
     "output_type": "stream",
     "text": [
      "5\n"
     ]
    }
   ],
   "source": [
    "y = 3 + 2\n",
    "\n",
    "print(y)"
   ]
  },
  {
   "cell_type": "code",
   "execution_count": 63,
   "id": "68e76074-b9eb-442e-9ab2-1d98ed188ca0",
   "metadata": {},
   "outputs": [
    {
     "name": "stdout",
     "output_type": "stream",
     "text": [
      "Alodia Keith Bendicio\n"
     ]
    }
   ],
   "source": [
    "x = 'Alodia'\n",
    "y = 'Keith'\n",
    "z = 'Bendicio'\n",
    "\n",
    "print(x + ' ' + y + ' ' + z)"
   ]
  },
  {
   "cell_type": "code",
   "execution_count": 65,
   "id": "92143142-226e-497a-a397-794ecc7fb261",
   "metadata": {},
   "outputs": [
    {
     "name": "stdout",
     "output_type": "stream",
     "text": [
      "Alodia Keith Bendicio\n"
     ]
    }
   ],
   "source": [
    "x = 'Alodia'\n",
    "y = ' Keith'\n",
    "z = ' Bendicio'\n",
    "\n",
    "print(x + y + z)"
   ]
  },
  {
   "cell_type": "code",
   "execution_count": 67,
   "id": "0bf7a16e-e8f9-4e45-a4bd-d5e90ed18291",
   "metadata": {},
   "outputs": [
    {
     "name": "stdout",
     "output_type": "stream",
     "text": [
      "9\n"
     ]
    }
   ],
   "source": [
    "x = 2\n",
    "y = 3\n",
    "z = 4\n",
    "\n",
    "print(x + y + z)"
   ]
  },
  {
   "cell_type": "code",
   "execution_count": 71,
   "id": "ba28b915-cc75-4227-8d9f-abd773f68518",
   "metadata": {},
   "outputs": [
    {
     "ename": "TypeError",
     "evalue": "can only concatenate str (not \"int\") to str",
     "output_type": "error",
     "traceback": [
      "\u001b[1;31m---------------------------------------------------------------------------\u001b[0m",
      "\u001b[1;31mTypeError\u001b[0m                                 Traceback (most recent call last)",
      "Cell \u001b[1;32mIn[71], line 4\u001b[0m\n\u001b[0;32m      1\u001b[0m x \u001b[38;5;241m=\u001b[39m \u001b[38;5;124m'\u001b[39m\u001b[38;5;124mAlodia\u001b[39m\u001b[38;5;124m'\u001b[39m\n\u001b[0;32m      2\u001b[0m y \u001b[38;5;241m=\u001b[39m \u001b[38;5;241m3\u001b[39m\n\u001b[1;32m----> 4\u001b[0m \u001b[38;5;28mprint\u001b[39m(x \u001b[38;5;241m+\u001b[39m y)\n",
      "\u001b[1;31mTypeError\u001b[0m: can only concatenate str (not \"int\") to str"
     ]
    }
   ],
   "source": [
    "x = 'Alodia'\n",
    "y = 3\n",
    "\n",
    "print(x + y)"
   ]
  },
  {
   "cell_type": "code",
   "execution_count": 73,
   "id": "4b7918e0-d74d-40b6-b053-7c91ea9f9753",
   "metadata": {},
   "outputs": [
    {
     "name": "stdout",
     "output_type": "stream",
     "text": [
      "Alodia 3\n"
     ]
    }
   ],
   "source": [
    "x = 'Alodia'\n",
    "y = 3\n",
    "\n",
    "print(x,y)"
   ]
  },
  {
   "cell_type": "code",
   "execution_count": null,
   "id": "2f778492-ad4f-4dcc-99b3-83d1f28db295",
   "metadata": {},
   "outputs": [],
   "source": []
  },
  {
   "cell_type": "code",
   "execution_count": null,
   "id": "e72b162e-b8ac-4cba-a8d7-5457c51331c2",
   "metadata": {},
   "outputs": [],
   "source": []
  },
  {
   "cell_type": "code",
   "execution_count": null,
   "id": "e6907cc2-3447-4d08-b473-d52a78d8574e",
   "metadata": {},
   "outputs": [],
   "source": []
  },
  {
   "cell_type": "code",
   "execution_count": null,
   "id": "5f3a67a5-2fa8-47f0-b716-670c4280a8bc",
   "metadata": {},
   "outputs": [],
   "source": []
  },
  {
   "cell_type": "code",
   "execution_count": null,
   "id": "2c186059-fe9b-42dd-8227-b210e0bcac54",
   "metadata": {},
   "outputs": [],
   "source": []
  },
  {
   "cell_type": "code",
   "execution_count": null,
   "id": "1c4a0b44-e549-4918-bf74-fe7bc5ee43e4",
   "metadata": {},
   "outputs": [],
   "source": []
  }
 ],
 "metadata": {
  "kernelspec": {
   "display_name": "Python 3 (ipykernel)",
   "language": "python",
   "name": "python3"
  },
  "language_info": {
   "codemirror_mode": {
    "name": "ipython",
    "version": 3
   },
   "file_extension": ".py",
   "mimetype": "text/x-python",
   "name": "python",
   "nbconvert_exporter": "python",
   "pygments_lexer": "ipython3",
   "version": "3.12.4"
  }
 },
 "nbformat": 4,
 "nbformat_minor": 5
}
